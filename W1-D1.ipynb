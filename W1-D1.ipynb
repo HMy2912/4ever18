{
 "cells": [
  {
   "cell_type": "markdown",
   "id": "b81b7b3a",
   "metadata": {},
   "source": [
    "https://www.kaggle.com/datasets/jackdaoud/marketing-data"
   ]
  },
  {
   "cell_type": "code",
   "execution_count": null,
   "id": "deffcc42",
   "metadata": {},
   "outputs": [],
   "source": []
  }
 ],
 "metadata": {
  "kernelspec": {
   "display_name": "Python 3 (ipykernel)",
   "language": "python",
   "name": "python3"
  },
  "language_info": {
   "codemirror_mode": {
    "name": "ipython",
    "version": 3
   },
   "file_extension": ".py",
   "mimetype": "text/x-python",
   "name": "python",
   "nbconvert_exporter": "python",
   "pygments_lexer": "ipython3",
   "version": "3.9.12"
  }
 },
 "nbformat": 4,
 "nbformat_minor": 5
}
